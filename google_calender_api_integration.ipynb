{
 "cells": [
  {
   "cell_type": "code",
   "execution_count": 1,
   "id": "bff94e0e",
   "metadata": {},
   "outputs": [],
   "source": [
    "from apiclient.discovery import build\n",
    "from google_auth_oauthlib.flow import InstalledAppFlow\n",
    "from uuid import uuid4\n",
    "import re\n",
    "import pickle"
   ]
  },
  {
   "cell_type": "code",
   "execution_count": 2,
   "id": "f3219a0d",
   "metadata": {},
   "outputs": [],
   "source": [
    "scopes = ['https://www.googleapis.com/auth/calendar']\n"
   ]
  },
  {
   "cell_type": "code",
   "execution_count": 3,
   "id": "b734a779",
   "metadata": {},
   "outputs": [],
   "source": [
    "flow = InstalledAppFlow.from_client_secrets_file(\"client_secret.json\", scopes=scopes)"
   ]
  },
  {
   "cell_type": "code",
   "execution_count": 4,
   "id": "36f769db",
   "metadata": {
    "scrolled": true
   },
   "outputs": [
    {
     "name": "stdout",
     "output_type": "stream",
     "text": [
      "Please visit this URL to authorize this application: https://accounts.google.com/o/oauth2/auth?response_type=code&client_id=614409782785-8shh4gjk5d4s41q09a3n0gtbmde7aonh.apps.googleusercontent.com&redirect_uri=http%3A%2F%2Flocalhost%3A42321%2F&scope=https%3A%2F%2Fwww.googleapis.com%2Fauth%2Fcalendar&state=hAsg1rJngPVtIGluwB0KEIwab7yVxE&access_type=offline\n"
     ]
    }
   ],
   "source": [
    "credentials = flow.run_local_server(port=0)"
   ]
  },
  {
   "cell_type": "code",
   "execution_count": 5,
   "id": "54b07460",
   "metadata": {},
   "outputs": [],
   "source": [
    "pickle.dump(credentials, open(\"token.pkl\", \"wb\"))"
   ]
  },
  {
   "cell_type": "code",
   "execution_count": 6,
   "id": "dae0fecb",
   "metadata": {},
   "outputs": [],
   "source": [
    "credentials = pickle.load(open(\"token.pkl\", \"rb\"))"
   ]
  },
  {
   "cell_type": "code",
   "execution_count": 7,
   "id": "313164e8",
   "metadata": {},
   "outputs": [],
   "source": [
    "service = build(\"calendar\", \"v3\", credentials=credentials)\n"
   ]
  },
  {
   "cell_type": "markdown",
   "id": "63f3dadd",
   "metadata": {},
   "source": [
    "## Get my Calender"
   ]
  },
  {
   "cell_type": "code",
   "execution_count": null,
   "id": "cd1bbd70",
   "metadata": {},
   "outputs": [],
   "source": [
    "result = service.calendarList().list().execute()"
   ]
  },
  {
   "cell_type": "code",
   "execution_count": null,
   "id": "efa3d29c",
   "metadata": {},
   "outputs": [
    {
     "data": {
      "text/plain": [
       "{'kind': 'calendar#calendarListEntry',\n",
       " 'etag': '\"1681531703062000\"',\n",
       " 'id': 'pshrishti325@gmail.com',\n",
       " 'summary': 'pshrishti325@gmail.com',\n",
       " 'timeZone': 'Asia/Kolkata',\n",
       " 'colorId': '23',\n",
       " 'backgroundColor': '#cd74e6',\n",
       " 'foregroundColor': '#000000',\n",
       " 'selected': True,\n",
       " 'accessRole': 'owner',\n",
       " 'defaultReminders': [{'method': 'popup', 'minutes': 30}],\n",
       " 'notificationSettings': {'notifications': [{'type': 'eventCreation',\n",
       "    'method': 'email'},\n",
       "   {'type': 'eventChange', 'method': 'email'},\n",
       "   {'type': 'eventCancellation', 'method': 'email'},\n",
       "   {'type': 'eventResponse', 'method': 'email'}]},\n",
       " 'primary': True,\n",
       " 'conferenceProperties': {'allowedConferenceSolutionTypes': ['hangoutsMeet']}}"
      ]
     },
     "execution_count": 9,
     "metadata": {},
     "output_type": "execute_result"
    }
   ],
   "source": [
    "result['items'][0]"
   ]
  },
  {
   "cell_type": "markdown",
   "id": "d36cebaf",
   "metadata": {},
   "source": [
    "## Get Calendet Events"
   ]
  },
  {
   "cell_type": "code",
   "execution_count": null,
   "id": "66dbe8bb",
   "metadata": {},
   "outputs": [
    {
     "data": {
      "text/plain": [
       "'pshrishti325@gmail.com'"
      ]
     },
     "execution_count": 10,
     "metadata": {},
     "output_type": "execute_result"
    }
   ],
   "source": [
    "calendar_id = result['items'][0]['id']\n",
    "calendar_id"
   ]
  },
  {
   "cell_type": "code",
   "execution_count": null,
   "id": "0d37113b",
   "metadata": {},
   "outputs": [],
   "source": [
    "result = service.events().list(calendarId=calendar_id,timeZone=\"Asia/Kolkata\").execute()\n"
   ]
  },
  {
   "cell_type": "code",
   "execution_count": null,
   "id": "d69ecfa7",
   "metadata": {},
   "outputs": [
    {
     "data": {
      "text/plain": [
       "92"
      ]
     },
     "execution_count": 12,
     "metadata": {},
     "output_type": "execute_result"
    }
   ],
   "source": [
    "len(result['items'])"
   ]
  },
  {
   "cell_type": "code",
   "execution_count": null,
   "id": "bda0dc12",
   "metadata": {},
   "outputs": [
    {
     "data": {
      "text/plain": [
       "{'kind': 'calendar#event',\n",
       " 'etag': '\"3365832440810000\"',\n",
       " 'id': '_60q30c1g60o30e1i60o4ac1g60rj8gpl88rj2c1h84s34h9g60s30c1g60o30c1g6sr32gq36osjge226kqk8e9g64o30c1g60o30c1g60o30c1g60o32c1g60o30c1g6oq3chi66533gd1h71148h1k60s3acq66gp34dpo6oq3ada18ko0',\n",
       " 'status': 'confirmed',\n",
       " 'htmlLink': 'https://www.google.com/calendar/event?eid=XzYwcTMwYzFnNjBvMzBlMWk2MG80YWMxZzYwcmo4Z3BsODhyajJjMWg4NHMzNGg5ZzYwczMwYzFnNjBvMzBjMWc2c3IzMmdxMzZvc2pnZTIyNmtxazhlOWc2NG8zMGMxZzYwbzMwYzFnNjBvMzBjMWc2MG8zMmMxZzYwbzMwYzFnNm9xM2NoaTY2NTMzZ2QxaDcxMTQ4aDFrNjBzM2FjcTY2Z3AzNGRwbzZvcTNhZGExOGtvMCBwc2hyaXNodGkzMjVAbQ&ctz=Asia/Kolkata',\n",
       " 'created': '2023-03-13T09:14:29.000Z',\n",
       " 'updated': '2023-05-01T04:43:40.405Z',\n",
       " 'summary': '2nd Round Of Interview | Shrishti | CV Internship | ZestIoT Technologies',\n",
       " 'description': '\\n________________________________________________________________________________\\nMicrosoft Teams meeting\\nJoin on your computer, mobile app or room device\\nClick here to join the meeting<https://teams.microsoft.com/l/meetup-join/19%3ameeting_MjJhMTc2NTItNWJmNC00NDUyLTgwMTctNDQ4MTliYzZmOWNk%40thread.v2/0?context=%7b%22Tid%22%3a%22f3902c50-923b-4674-919a-79bb30901909%22%2c%22Oid%22%3a%22b571d65d-5792-4add-994e-77e4d9da7a19%22%7d>\\nMeeting ID: 462 235 557 775\\nPasscode: sDM8To\\nDownload Teams<https://www.microsoft.com/en-us/microsoft-teams/download-app> | Join on the web<https://www.microsoft.com/microsoft-teams/join-a-meeting>\\nLearn More<https://aka.ms/JoinTeamsMeeting> | Meeting options<https://teams.microsoft.com/meetingOptions/?organizerId=b571d65d-5792-4add-994e-77e4d9da7a19&tenantId=f3902c50-923b-4674-919a-79bb30901909&threadId=19_meeting_MjJhMTc2NTItNWJmNC00NDUyLTgwMTctNDQ4MTliYzZmOWNk@thread.v2&messageId=0&language=en-US>\\n________________________________________________________________________________\\n',\n",
       " 'location': 'Microsoft Teams Meeting',\n",
       " 'creator': {'email': 'pshrishti325@gmail.com', 'self': True},\n",
       " 'organizer': {'email': 'mrudula@zestiot.io',\n",
       "  'displayName': 'Mrudula Upadhyayula'},\n",
       " 'start': {'dateTime': '2023-03-14T09:00:00+05:30',\n",
       "  'timeZone': 'Asia/Kolkata'},\n",
       " 'end': {'dateTime': '2023-03-14T09:30:00+05:30', 'timeZone': 'Asia/Kolkata'},\n",
       " 'iCalUID': '040000008200E00074C5B7101A82E00800000000761CC6988B55D901000000000000000010000000646FF1F8418BDD40853F422786455AE0',\n",
       " 'sequence': 0,\n",
       " 'attendees': [{'email': 'pshrishti325@gmail.com',\n",
       "   'self': True,\n",
       "   'responseStatus': 'needsAction'},\n",
       "  {'email': 'atif@zestiot.io',\n",
       "   'displayName': 'Atif Damudi',\n",
       "   'responseStatus': 'needsAction'}],\n",
       " 'guestsCanInviteOthers': False,\n",
       " 'privateCopy': True,\n",
       " 'reminders': {'useDefault': True},\n",
       " 'attachments': [{'fileUrl': 'https://mail.google.com/?view=att&th=186da4011d19fe38&attid=0.1&disp=attd&zw',\n",
       "   'title': 'Pandey_Shrishti (1).pdf',\n",
       "   'iconLink': ''}],\n",
       " 'eventType': 'default'}"
      ]
     },
     "execution_count": 13,
     "metadata": {},
     "output_type": "execute_result"
    }
   ],
   "source": [
    "result['items'][-2]"
   ]
  },
  {
   "cell_type": "markdown",
   "id": "36ffd6f0",
   "metadata": {},
   "source": [
    "## Create new Calender Event"
   ]
  },
  {
   "cell_type": "code",
   "execution_count": null,
   "id": "7212e147",
   "metadata": {},
   "outputs": [],
   "source": [
    "from datetime import datetime, timedelta"
   ]
  },
  {
   "cell_type": "code",
   "execution_count": null,
   "id": "e5bd058c",
   "metadata": {},
   "outputs": [],
   "source": [
    "start_time = datetime(2023, 3, 29, 7, 30,0)\n",
    "end_time = start_time + timedelta(hours=0.5)\n",
    "timezone = 'Asia/Kolkata'"
   ]
  },
  {
   "cell_type": "code",
   "execution_count": null,
   "id": "cdc9ea29",
   "metadata": {},
   "outputs": [
    {
     "data": {
      "text/plain": [
       "'2023-03-29T07:30:00'"
      ]
     },
     "execution_count": 16,
     "metadata": {},
     "output_type": "execute_result"
    }
   ],
   "source": [
    "start_time.strftime(\"%Y-%m-%dT%H:%M:%S\")"
   ]
  },
  {
   "cell_type": "code",
   "execution_count": null,
   "id": "55d2e2ed",
   "metadata": {},
   "outputs": [],
   "source": [
    "# conferenceData: {\n",
    "#   createRequest: {\n",
    "#     requestId: \"sample123\",\n",
    "#     conferenceSolutionKey: { type: \"hangoutsMeet\" },\n",
    "#   },\n",
    "# }"
   ]
  },
  {
   "cell_type": "code",
   "execution_count": null,
   "id": "0750bc32",
   "metadata": {},
   "outputs": [],
   "source": [
    "# Refer to the Python quickstart on how to setup the environment:\n",
    "# https://developers.google.com/calendar/quickstart/python\n",
    "# Change the scope to 'https://www.googleapis.com/auth/calendar' and delete any\n",
    "# stored credentials.\n",
    "\n",
    "event = {\n",
    "  'summary': 'New Meeting',\n",
    "  'location': 'Raipur',\n",
    "  'description': 'Doctors Apointment',\n",
    "  'start': {\n",
    "    'dateTime': start_time.strftime(\"%Y-%m-%dT%H:%M:%S\"),\n",
    "    'timeZone': timezone,\n",
    "  },\n",
    "  'end': {\n",
    "    'dateTime': end_time.strftime(\"%Y-%m-%dT%H:%M:%S\"),\n",
    "    'timeZone': timezone,\n",
    "  },\n",
    "    \"conferenceData\": {\n",
    "        \"createRequest\": {\n",
    "            \"requestId\": f\"{uuid4().hex}\",\n",
    "            \"conferenceSolutionKey\": {\"type\": \"hangoutsMeet\"}\n",
    "        }\n",
    "    },\n",
    "  'reminders': {\n",
    "    'useDefault': False,\n",
    "    'overrides': [\n",
    "      {'method': 'email', 'minutes': 24 * 60},\n",
    "      {'method': 'popup', 'minutes': 10},\n",
    "    ],\n",
    "        'attendees': [\n",
    "    {'email': 'pshreyasi325@gmail.com'},\n",
    "    \n",
    "  ]\n",
    "  },\n",
    "}\n",
    "\n",
    "event = service.events().insert(calendarId=calendar_id, body=event).execute()\n"
   ]
  },
  {
   "cell_type": "code",
   "execution_count": null,
   "id": "50866cfa",
   "metadata": {},
   "outputs": [
    {
     "name": "stdout",
     "output_type": "stream",
     "text": [
      "Event created: https://www.google.com/calendar/event?eid=ZWFmcnB0OXR2cm1vYWo5NzR1dW9kbTR1OGcgcHNocmlzaHRpMzI1QG0\n"
     ]
    }
   ],
   "source": [
    "print ('Event created: %s' % (event.get('htmlLink')))\n"
   ]
  },
  {
   "cell_type": "code",
   "execution_count": null,
   "id": "88cc4cb7",
   "metadata": {},
   "outputs": [],
   "source": [
    "description = event['description']\n",
    "description"
   ]
  },
  {
   "cell_type": "code",
   "execution_count": null,
   "id": "ced61af6",
   "metadata": {},
   "outputs": [
    {
     "name": "stdout",
     "output_type": "stream",
     "text": [
      "['pshreyasi325@gmail.com', 'sunny234das@gmail.com']\n",
      "[{'email': 'pshreyasi325@gmail.com'}, {'email': 'sunny234das@gmail.com'}]\n",
      "https://www.google.com/calendar/event?eid=M2oza3RyN2wwZzY5dWI5aW05azdiOTVtYW8gcHNocmlzaHRpMzI1QG0\n"
     ]
    }
   ],
   "source": [
    "# import re\n",
    "\n",
    "# url = \"https://meet.google.com/abc-defg-hij\"\n",
    "# new_url = re.sub(r'/\\w+-\\w+-\\w+', '/new', url)\n",
    "# print(new_url)\n",
    "\n",
    "\n",
    "        \n",
    "from pathlib import Path\n",
    "from pickle import load\n",
    "from pickle import dump\n",
    "from google.auth.transport.requests import Request\n",
    "from google_auth_oauthlib.flow import InstalledAppFlow\n",
    "from googleapiclient.discovery import build\n",
    "from uuid import uuid4\n",
    "from typing import Dict, List\n",
    "from oauth2client import file, client, tools\n",
    "\n",
    "\n",
    "class EventPlanner:\n",
    "\n",
    "    def __init__(self, guests , schedule):\n",
    "        guests = [{\"email\": email} for email in guests]\n",
    "        service = self._authorize()\n",
    "        self.event_states = self._plan_event(guests, schedule, service)\n",
    "\n",
    "    @staticmethod\n",
    "    def _authorize():\n",
    "        scopes = [\"https://www.googleapis.com/auth/calendar\"]\n",
    "        credentials = None\n",
    "        token_file = Path(\"token.pkl\")\n",
    "\n",
    "        if token_file.exists():\n",
    "            with open(token_file, \"rb\") as token:\n",
    "                credentials = load(token)\n",
    "\n",
    "        if not credentials or not credentials.valid:\n",
    "            if credentials and credentials.expired and credentials.refresh_token:\n",
    "                credentials.refresh(Request())\n",
    "            else:\n",
    "                flow = InstalledAppFlow.from_client_secrets_file('client_secret.json', scopes)\n",
    "                credentials = flow.run_local_server(port=0)\n",
    "            with open(token_file, \"wb\") as token:\n",
    "                dump(credentials, token)\n",
    "\n",
    "        calendar_service = build(\"calendar\", \"v3\", credentials=credentials)\n",
    "\n",
    "        return calendar_service\n",
    "\n",
    "    @staticmethod\n",
    "    def _plan_event(attendees: List[Dict[str, str]], event_time, service: build):\n",
    "        event = {\"summary\": \"test meeting\",\n",
    "                 'location': 'Raipur',\n",
    "                 'description': 'Doctors Apointment',\n",
    "                 \"start\": {\"dateTime\": event_time[\"start\"] , \n",
    "                           'timeZone': 'Asia/Kolkata',},\n",
    "                 \"end\": {\"dateTime\": event_time[\"end\"],\n",
    "                         'timeZone': 'Asia/Kolkata',},\n",
    "                 \n",
    "                 \"attendees\": attendees,\n",
    "                 \"conferenceData\": {\"createRequest\": {\"requestId\": \"SecureRandom.uuid\",\n",
    "                                                      \"conferenceSolutionKey\": {\"type\": \"hangoutsMeet\"}}},\n",
    "                 'reminders': {\n",
    "                    'useDefault': False,\n",
    "                    'overrides': [\n",
    "                    {'method': 'email', 'minutes': 24 * 60},\n",
    "                    {'method': 'popup', 'minutes': 10},\n",
    "                    ],\n",
    "                 }\n",
    "        }\n",
    "        event = service.events().insert(calendarId=\"pshrishti325@gmail.com\", sendNotifications=True, body=event, conferenceDataVersion=1).execute()\n",
    "\n",
    "        return (event.get('htmlLink'))\n",
    "\n",
    "\n",
    "if __name__ == \"__main__\":\n",
    "    plan = EventPlanner([\"pshreyasi325@gmail.com\",\"sunny234das@gmail.com\"], {\"start\": \"2023-03-29T07:30:00\",\n",
    "                                                                          \"end\": \"2023-03-29T07:30:00\"})\n",
    "    print(plan.event_states)"
   ]
  },
  {
   "cell_type": "code",
   "execution_count": null,
   "id": "354960fe",
   "metadata": {},
   "outputs": [],
   "source": [
    "guests = [\n",
    "    \"pshreyasi325@gmail.com\",\n",
    "    \"sunny234das@gmail.com\"\n",
    "]\n"
   ]
  },
  {
   "cell_type": "code",
   "execution_count": null,
   "id": "e927769c",
   "metadata": {},
   "outputs": [
    {
     "ename": "AttributeError",
     "evalue": "'list' object has no attribute 'values'",
     "output_type": "error",
     "traceback": [
      "\u001b[0;31m---------------------------------------------------------------------------\u001b[0m",
      "\u001b[0;31mAttributeError\u001b[0m                            Traceback (most recent call last)",
      "\u001b[0;32m/tmp/ipykernel_478983/3240883320.py\u001b[0m in \u001b[0;36m<module>\u001b[0;34m\u001b[0m\n\u001b[0;32m----> 1\u001b[0;31m \u001b[0mguests\u001b[0m\u001b[0;34m.\u001b[0m\u001b[0mvalues\u001b[0m\u001b[0;34m\u001b[0m\u001b[0;34m\u001b[0m\u001b[0m\n\u001b[0m",
      "\u001b[0;31mAttributeError\u001b[0m: 'list' object has no attribute 'values'"
     ]
    }
   ],
   "source": [
    "guests.values"
   ]
  },
  {
   "cell_type": "code",
   "execution_count": null,
   "id": "df785172",
   "metadata": {},
   "outputs": [
    {
     "data": {
      "text/plain": [
       "[{'email': 'pshreyasi325@gmail.com'}, {'email': 'sunny234das@gmail.com'}]"
      ]
     },
     "execution_count": 7,
     "metadata": {},
     "output_type": "execute_result"
    }
   ],
   "source": [
    "[{\"email\": email} for email in guests]"
   ]
  },
  {
   "cell_type": "code",
   "execution_count": null,
   "id": "390d22bb",
   "metadata": {},
   "outputs": [],
   "source": []
  }
 ],
 "metadata": {
  "kernelspec": {
   "display_name": "Python 3 (ipykernel)",
   "language": "python",
   "name": "python3"
  },
  "language_info": {
   "codemirror_mode": {
    "name": "ipython",
    "version": 3
   },
   "file_extension": ".py",
   "mimetype": "text/x-python",
   "name": "python",
   "nbconvert_exporter": "python",
   "pygments_lexer": "ipython3",
   "version": "3.7.16"
  }
 },
 "nbformat": 4,
 "nbformat_minor": 5
}
